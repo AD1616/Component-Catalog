{
 "cells": [
  {
   "cell_type": "code",
   "execution_count": 1,
   "metadata": {},
   "outputs": [
    {
     "name": "stdout",
     "output_type": "stream",
     "text": [
      "Import success. \n"
     ]
    }
   ],
   "source": [
    "import pandas as pd\n",
    "import getpass\n",
    "from py2neo import Graph, Node, Relationship\n",
    "from py2neo import GraphService\n",
    "import neo4jupyter\n",
    "print(\"Import success. \")"
   ]
  },
  {
   "cell_type": "code",
   "execution_count": 2,
   "metadata": {},
   "outputs": [],
   "source": [
    "# Manually enter host URL for neo4j database. Localhost with exposed port or base ICICLE url will go here.\n",
    "host = getpass.getpass(prompt='Host: ', stream=None)\n",
    "\n",
    "# Input for password - generally \"pass\" or \"password\", but can sometimes be custom.\n",
    "# For ICICLE hosted stuff on TAPIS, this will be a property of the pod. \n",
    "password = getpass.getpass(prompt='Password: ', stream=None) \n",
    "\n",
    "# Creating the graph object to operate on the Neo4j database.\n",
    "graph = Graph(host, auth=(\"neo4j\", password))"
   ]
  },
  {
   "cell_type": "code",
   "execution_count": 3,
   "metadata": {},
   "outputs": [
    {
     "data": {
      "text/html": [
       "<div>\n",
       "<style scoped>\n",
       "    .dataframe tbody tr th:only-of-type {\n",
       "        vertical-align: middle;\n",
       "    }\n",
       "\n",
       "    .dataframe tbody tr th {\n",
       "        vertical-align: top;\n",
       "    }\n",
       "\n",
       "    .dataframe thead th {\n",
       "        text-align: right;\n",
       "    }\n",
       "</style>\n",
       "<table border=\"1\" class=\"dataframe\">\n",
       "  <thead>\n",
       "    <tr style=\"text-align: right;\">\n",
       "      <th></th>\n",
       "      <th>n</th>\n",
       "    </tr>\n",
       "  </thead>\n",
       "  <tbody>\n",
       "    <tr>\n",
       "      <th>0</th>\n",
       "      <td>{'name': 'Component Name', 'standalone': 'Stan...</td>\n",
       "    </tr>\n",
       "    <tr>\n",
       "      <th>1</th>\n",
       "      <td>{'name': 'Base ICICLE Tapis', 'standalone': 'Y...</td>\n",
       "    </tr>\n",
       "    <tr>\n",
       "      <th>2</th>\n",
       "      <td>{'name': 'Pods Service (previously KG API)', '...</td>\n",
       "    </tr>\n",
       "    <tr>\n",
       "      <th>3</th>\n",
       "      <td>{'name': 'Event Engine ', 'standalone': 'Yes',...</td>\n",
       "    </tr>\n",
       "    <tr>\n",
       "      <th>4</th>\n",
       "      <td>{'standalone': 'Yes', 'name': 'Camera Traps Ed...</td>\n",
       "    </tr>\n",
       "  </tbody>\n",
       "</table>\n",
       "</div>"
      ],
      "text/plain": [
       "                                                   n\n",
       "0  {'name': 'Component Name', 'standalone': 'Stan...\n",
       "1  {'name': 'Base ICICLE Tapis', 'standalone': 'Y...\n",
       "2  {'name': 'Pods Service (previously KG API)', '...\n",
       "3  {'name': 'Event Engine ', 'standalone': 'Yes',...\n",
       "4  {'standalone': 'Yes', 'name': 'Camera Traps Ed..."
      ]
     },
     "execution_count": 3,
     "metadata": {},
     "output_type": "execute_result"
    }
   ],
   "source": [
    "# Testing connection with a simple query. Should display all of the components (limited to 5) in a table.\n",
    "query = \"MATCH(n:COMPONENT) RETURN n LIMIT 5\"\n",
    "graph.run(query).to_data_frame()"
   ]
  },
  {
   "cell_type": "code",
   "execution_count": null,
   "metadata": {},
   "outputs": [],
   "source": [
    "# Take inputs for properties and relationships\n",
    "# Then run a Cypher command to update the KG\n",
    "\n",
    "name = str(input(\"Enter component name: \"))\n",
    "description = str(input(\"Enter component description: \"))\n",
    "contact = str(input(\"Enter contact for component: \"))\n",
    "owningGroup = str(input(\"Enter component owning group for component: \"))\n",
    "standalone = str(input(\"Is the component standalong from Tapis? Enter \\\"Yes\\\" or \\\"No\\\": \"))\n",
    "\n",
    "# This one needs adjustments. \n",
    "# #Needs to be a good way to create multiple relationships to different dependencies at once.\n",
    "dependsOn = str(input(\"Enter dependencies on other components: \"))\n",
    "\n",
    "\n",
    "\n",
    "\n",
    "createComponent = \"\"\"\n",
    "CREATE (:COMPONENT) -[:RELATIONSHIPLABEL {property1:value1}]-> (:LABEL {property1: value1, property2: value2})\n",
    "\"\"\"\n"
   ]
  }
 ],
 "metadata": {
  "kernelspec": {
   "display_name": "Python 3.10.5",
   "language": "python",
   "name": "python3"
  },
  "language_info": {
   "codemirror_mode": {
    "name": "ipython",
    "version": 3
   },
   "file_extension": ".py",
   "mimetype": "text/x-python",
   "name": "python",
   "nbconvert_exporter": "python",
   "pygments_lexer": "ipython3",
   "version": "3.10.5"
  },
  "orig_nbformat": 4,
  "vscode": {
   "interpreter": {
    "hash": "841c3f24dd1f2e154ac5c90906b837fc9bd9e565d98f73ef5d90f0978180ac0d"
   }
  }
 },
 "nbformat": 4,
 "nbformat_minor": 2
}
