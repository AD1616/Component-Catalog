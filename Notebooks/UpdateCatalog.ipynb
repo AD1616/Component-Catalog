{
 "cells": [
  {
   "cell_type": "code",
   "execution_count": 2,
   "id": "d9a4d899",
   "metadata": {},
   "outputs": [
    {
     "name": "stdout",
     "output_type": "stream",
     "text": [
      "Import success. \n"
     ]
    }
   ],
   "source": [
    "import pandas as pd\n",
    "import getpass\n",
    "from py2neo import Graph, Node, Relationship\n",
    "from py2neo import GraphService\n",
    "import neo4jupyter\n",
    "print(\"Import success. \")"
   ]
  },
  {
   "cell_type": "code",
   "execution_count": 3,
   "id": "e64de4c8",
   "metadata": {},
   "outputs": [
    {
     "name": "stdout",
     "output_type": "stream",
     "text": [
      "Host: ········\n",
      "Password: ········\n"
     ]
    }
   ],
   "source": [
    "# Manually enter host URL for neo4j database. Localhost with exposed port or base ICICLE url will go here.\n",
    "host = getpass.getpass(prompt='Host: ', stream=None)\n",
    "\n",
    "# Input for password - generally \"pass\" or \"password\", but can sometimes be custom.\n",
    "# For ICICLE hosted stuff on TAPIS, this will be a property of the pod. \n",
    "password = getpass.getpass(prompt='Password: ', stream=None) \n",
    "\n",
    "# Creating the graph object to operate on the Neo4j database.\n",
    "graph = Graph(host, auth=(\"neo4j\", password))"
   ]
  },
  {
   "cell_type": "code",
   "execution_count": 4,
   "id": "a2c86024",
   "metadata": {
    "scrolled": false
   },
   "outputs": [
    {
     "data": {
      "text/html": [
       "<div>\n",
       "<style scoped>\n",
       "    .dataframe tbody tr th:only-of-type {\n",
       "        vertical-align: middle;\n",
       "    }\n",
       "\n",
       "    .dataframe tbody tr th {\n",
       "        vertical-align: top;\n",
       "    }\n",
       "\n",
       "    .dataframe thead th {\n",
       "        text-align: right;\n",
       "    }\n",
       "</style>\n",
       "<table border=\"1\" class=\"dataframe\">\n",
       "  <thead>\n",
       "    <tr style=\"text-align: right;\">\n",
       "      <th></th>\n",
       "      <th>n</th>\n",
       "    </tr>\n",
       "  </thead>\n",
       "  <tbody>\n",
       "    <tr>\n",
       "      <th>0</th>\n",
       "      <td>{'repositories': 'Code Repositories', 'last_up...</td>\n",
       "    </tr>\n",
       "    <tr>\n",
       "      <th>1</th>\n",
       "      <td>{'repositories': 'https://github.com/orgs/tapi...</td>\n",
       "    </tr>\n",
       "    <tr>\n",
       "      <th>2</th>\n",
       "      <td>{'repositories': 'https://github.com/tapis-pro...</td>\n",
       "    </tr>\n",
       "    <tr>\n",
       "      <th>3</th>\n",
       "      <td>{'last_update': '10/4/2022', 'name': 'Event En...</td>\n",
       "    </tr>\n",
       "    <tr>\n",
       "      <th>4</th>\n",
       "      <td>{'repositories': 'https://github.com/tapis-pro...</td>\n",
       "    </tr>\n",
       "  </tbody>\n",
       "</table>\n",
       "</div>"
      ],
      "text/plain": [
       "                                                   n\n",
       "0  {'repositories': 'Code Repositories', 'last_up...\n",
       "1  {'repositories': 'https://github.com/orgs/tapi...\n",
       "2  {'repositories': 'https://github.com/tapis-pro...\n",
       "3  {'last_update': '10/4/2022', 'name': 'Event En...\n",
       "4  {'repositories': 'https://github.com/tapis-pro..."
      ]
     },
     "execution_count": 4,
     "metadata": {},
     "output_type": "execute_result"
    }
   ],
   "source": [
    "# Testing connection with a simple query. Should display all of the components (limited to 5) in a table.\n",
    "query = \"MATCH(n:COMPONENT) RETURN n LIMIT 5\"\n",
    "graph.run(query).to_data_frame()"
   ]
  },
  {
   "cell_type": "code",
   "execution_count": null,
   "id": "2353174a",
   "metadata": {},
   "outputs": [],
   "source": [
    "# Create all components from scratch\n",
    "componentsFromScratch = \"\"\"\n",
    "LOAD CSV FROM \"https://raw.githubusercontent.com/sdsc-hpc-students/REHS2022/main/ICICLE%20CI%20Components%20Catalog%20-%20ICCLE%20Software%20Components%20Inventory%20-%20Oct%202022.csv\" AS line\n",
    "CREATE (:COMPONENT {name: line[0], description: line[1], standalone: line[4], testing_process: line[9], releases: line[10], repositories: line[11], req_and_usage: line[12], status: line[13], last_update: line[14]})\n",
    "\"\"\"\n",
    "# graph.run(componentsFromScratch)"
   ]
  },
  {
   "cell_type": "code",
   "execution_count": 21,
   "id": "27da63a2",
   "metadata": {},
   "outputs": [
    {
     "data": {
      "text/html": [
       "(No data)"
      ],
      "text/plain": [
       "(No data)"
      ]
     },
     "execution_count": 21,
     "metadata": {},
     "output_type": "execute_result"
    }
   ],
   "source": [
    "# Create all contacts from scratch\n",
    "contactsFromScratch = \"\"\"\n",
    "LOAD CSV WITH HEADERS FROM 'https://raw.githubusercontent.com/sdsc-hpc-students/REHS2022/main/ICICLE%20CI%20Components%20Catalog%20-%20ICCLE%20Software%20Components%20Inventory%20-%20Oct%202022.csv' AS row\n",
    "CREATE (c:CONTACT {name: row.`Person of Contact`})\n",
    "\"\"\"\n",
    "deleteDuplicates = \"\"\" \n",
    "MATCH (c:CONTACT)\n",
    "WITH c.name AS name, collect(c) AS nodes \n",
    "WHERE size(nodes) >  1\n",
    "FOREACH (c in tail(nodes) | DETACH DELETE c)\n",
    "\"\"\"\n",
    "\n",
    "#graph.run(contactsFromScratch)\n",
    "#graph.run(deleteDuplicates)\n",
    "\n",
    "# Note: there is a bug here, since when there are multiple contacts the \"duplicates\" don't get deleted\n"
   ]
  },
  {
   "cell_type": "code",
   "execution_count": 24,
   "id": "2262673b",
   "metadata": {},
   "outputs": [
    {
     "data": {
      "text/html": [
       "(No data)"
      ],
      "text/plain": [
       "(No data)"
      ]
     },
     "execution_count": 24,
     "metadata": {},
     "output_type": "execute_result"
    }
   ],
   "source": [
    "# Create all contacts from scratch\n",
    "ownerFromScratch = \"\"\"\n",
    "LOAD CSV WITH HEADERS FROM 'https://raw.githubusercontent.com/sdsc-hpc-students/REHS2022/main/ICICLE%20CI%20Components%20Catalog%20-%20ICCLE%20Software%20Components%20Inventory%20-%20Oct%202022.csv' AS row\n",
    "CREATE (o:OWNER {name: row.`Owning Group (AI4CI, CI4AI, etc)`})\n",
    "\"\"\"\n",
    "deleteDuplicates = \"\"\" \n",
    "MATCH (o:OWNER)\n",
    "WITH o.name AS name, collect(o) AS nodes \n",
    "WHERE size(nodes) >  1\n",
    "FOREACH (o in tail(nodes) | DETACH DELETE o)\n",
    "\"\"\"\n",
    "\n",
    "graph.run(ownerFromScratch)\n",
    "graph.run(deleteDuplicates)\n",
    "\n",
    "# Note: there is a bug here, since when there are multiple owners the \"duplicates\" don't get deleted\n"
   ]
  },
  {
   "cell_type": "code",
   "execution_count": 22,
   "id": "ed305778",
   "metadata": {},
   "outputs": [
    {
     "data": {
      "text/html": [
       "(No data)"
      ],
      "text/plain": [
       "(No data)"
      ]
     },
     "execution_count": 22,
     "metadata": {},
     "output_type": "execute_result"
    }
   ],
   "source": [
    "# Create All Use Cases from scratch \n",
    "\n",
    "useCasesFromScratch = \"\"\"\n",
    "LOAD CSV WITH HEADERS FROM 'https://raw.githubusercontent.com/sdsc-hpc-students/REHS2022/main/ICICLE%20CI%20Components%20Catalog%20-%20ICCLE%20Software%20Components%20Inventory%20-%20Oct%202022.csv' AS row\n",
    "CREATE (u:USE_INSPIRED {name: row.`Which Use-inspired Science Cases will be using it in the future?`})\n",
    "\"\"\"\n",
    "graph.run(useCasesFromScratch)\n",
    "\n",
    "useCasesFromScratch2 = \"\"\"\n",
    "LOAD CSV WITH HEADERS FROM 'https://raw.githubusercontent.com/sdsc-hpc-students/REHS2022/main/ICICLE%20CI%20Components%20Catalog%20-%20ICCLE%20Software%20Components%20Inventory%20-%20Oct%202022.csv' AS row\n",
    "CREATE (u:USE_INSPIRED {name: row.`Which Use-inspired science case is using it now?`})\n",
    "\"\"\"\n",
    "graph.run(useCasesFromScratch2)\n",
    "\n",
    "deleteDuplicates = \"\"\" \n",
    "MATCH (u:USE_INSPIRED)\n",
    "WITH u.name AS name, collect(u) AS nodes \n",
    "WHERE size(nodes) >  1\n",
    "FOREACH (u in tail(nodes) | DETACH DELETE u)\n",
    "\"\"\"\n",
    "graph.run(deleteDuplicates)\n",
    "# Note: there is a bug here, since when there are multiple use cases the \"duplicates\" don't get deleted\n"
   ]
  },
  {
   "cell_type": "code",
   "execution_count": 9,
   "id": "1f4036d8",
   "metadata": {},
   "outputs": [
    {
     "name": "stdout",
     "output_type": "stream",
     "text": [
      "Enter component name: Pods Service (previously KG API)\n",
      "Enter number of dependencies: 1\n",
      "Enter dependency name: Base ICICLE Tapis\n"
     ]
    },
    {
     "data": {
      "text/html": [
       "(No data)"
      ],
      "text/plain": [
       "(No data)"
      ]
     },
     "execution_count": 9,
     "metadata": {},
     "output_type": "execute_result"
    }
   ],
   "source": [
    "# This code block handles creating dependency relationships between existing component nodes\n",
    "\n",
    "name = \"\\\"\" + str(input(\"Enter component name: \")) + \"\\\"\"\n",
    "script = \"MATCH (n1:COMPONENT {name: \" + name + \"})\"\n",
    "dependencies = int(input(\"Enter number of dependencies: \"))\n",
    "for i in range(dependencies):\n",
    "    dependency = \"\\\"\" + str(input(\"Enter dependency name: \")) + \"\\\"\"\n",
    "    script += \"MATCH (n\" + str(i) + \":COMPONENT {name: \" + dependency + \"})\"\n",
    "    script += \"CREATE (n1) -[:DEPENDS_ON]-> (n\" + str(i) + \")\"\n",
    "\n",
    "graph.run(script)"
   ]
  },
  {
   "cell_type": "code",
   "execution_count": null,
   "id": "78a82920",
   "metadata": {},
   "outputs": [],
   "source": [
    "# In progress - each of these relationships is for use case\n",
    "# Each must have existing/future component\n",
    "\n",
    "\n",
    "name = \"\\\"\" + str(input(\"Enter component name: \")) + \"\\\"\"\n",
    "script = \"MATCH (n1:COMPONENT {name: \" + name + \"})\"\n",
    "useCases = int(input(\"Enter number of Use-Inspired Cases: \"))\n",
    "for i in range(useCases):\n",
    "    useCase = \"\\\"\" + str(input(\"Enter Use Case name: \")) + \"\\\"\"\n",
    "    script += \"MATCH (n\" + str(i) + \":COMPONENT {name: \" + dependency + \"})\"\n",
    "    script += \"CREATE (n1) -[:DEPENDS_ON]-> (n\" + str(i) + \")\"\n",
    "\n",
    "graph.run(script)"
   ]
  },
  {
   "cell_type": "code",
   "execution_count": null,
   "id": "4702776f",
   "metadata": {},
   "outputs": [],
   "source": [
    "\"\"\"\n",
    "name = str(input(\"Enter component name: \"))\n",
    "description = str(input(\"Enter component description: \"))\n",
    "contact = str(input(\"Enter contact for component: \"))\n",
    "owningGroup = str(input(\"Enter component owning group for component: \"))\n",
    "standalone = str(input(\"Is the component standalong from Tapis? Enter \\\"Yes\\\" or \\\"No\\\": \"))\n",
    "dependsOn = str(input(\"Enter dependencies on other components: \"))\n",
    "\"\"\"\n"
   ]
  },
  {
   "cell_type": "code",
   "execution_count": null,
   "id": "a18caeea",
   "metadata": {},
   "outputs": [],
   "source": []
  }
 ],
 "metadata": {
  "kernelspec": {
   "display_name": "Python 3 (ipykernel)",
   "language": "python",
   "name": "python3"
  },
  "language_info": {
   "codemirror_mode": {
    "name": "ipython",
    "version": 3
   },
   "file_extension": ".py",
   "mimetype": "text/x-python",
   "name": "python",
   "nbconvert_exporter": "python",
   "pygments_lexer": "ipython3",
   "version": "3.10.5"
  }
 },
 "nbformat": 4,
 "nbformat_minor": 5
}
